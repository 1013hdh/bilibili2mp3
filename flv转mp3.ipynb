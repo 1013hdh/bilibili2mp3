{
 "cells": [
  {
   "cell_type": "markdown",
   "metadata": {},
   "source": [
    "# 导入包"
   ]
  },
  {
   "cell_type": "markdown",
   "metadata": {},
   "source": [
    "需要安装you_get&moviepy<p>\n",
    "1.pip install moviepy -i https://pypi.tuna.tsinghua.edu.cn/simple<p>\n",
    "2.pip install you_get -i https://pypi.tuna.tsinghua.edu.cn/simple<p>\n"
   ]
  },
  {
   "cell_type": "code",
   "execution_count": 1,
   "metadata": {},
   "outputs": [],
   "source": [
    "import os\n",
    "import sys\n",
    "from you_get import common as you_get       \n",
    "import moviepy.editor as mp  "
   ]
  },
  {
   "cell_type": "markdown",
   "metadata": {},
   "source": [
    "# 下载flv文件"
   ]
  },
  {
   "cell_type": "code",
   "execution_count": 2,
   "metadata": {},
   "outputs": [
    {
     "name": "stdout",
     "output_type": "stream",
     "text": [
      "site:                Bilibili\n",
      "title:               【耳朵已怀孕】古典吉他 音乐合辑丨Iliana Matos (P1. Passacaglia for Eli Kassner - Iliana Matos plays 1992 Fleta)\n",
      "stream:\n",
      "    - format:        flv720\n",
      "      container:     flv\n",
      "      quality:       高清 720P\n",
      "      size:          18.2 MiB (19121491 bytes)\n",
      "    # download-with: you-get --format=flv720 [URL]\n",
      "\n",
      "Downloading 【耳朵已怀孕】古典吉他 音乐合辑丨Iliana Matos (P1. Passacaglia for Eli Kassner - Iliana Matos pl.flv ...\n",
      " 100% ( 18.2/ 18.2MB) ├████████████████████████████████████████┤[1/1]   14 MB/s\n",
      "\n",
      "Downloading 【耳朵已怀孕】古典吉他 音乐合辑丨Iliana Matos (P1. Passacaglia for Eli Kassner - Iliana Matos pl.cmt.xml ...\n",
      "\n",
      "site:                Bilibili\n",
      "title:               【耳朵已怀孕】古典吉他 音乐合辑丨Iliana Matos (P2. Elegía a Benny Moré - Iliana Matos plays Sebastian Stenzel)\n",
      "stream:\n",
      "    - format:        flv720\n",
      "      container:     flv\n",
      "      quality:       高清 720P\n",
      "      size:          25.1 MiB (26365690 bytes)\n",
      "    # download-with: you-get --format=flv720 [URL]\n",
      "\n",
      "Downloading 【耳朵已怀孕】古典吉他 音乐合辑丨Iliana Matos (P2. Elegía a Benny Moré - Iliana Matos plays Seba.flv ...\n",
      " 100% ( 25.1/ 25.1MB) ├████████████████████████████████████████┤[1/1]    3 MB/s\n",
      "\n",
      "Downloading 【耳朵已怀孕】古典吉他 音乐合辑丨Iliana Matos (P2. Elegía a Benny Moré - Iliana Matos plays Seba.cmt.xml ...\n",
      "\n",
      "site:                Bilibili\n",
      "title:               【耳朵已怀孕】古典吉他 音乐合辑丨Iliana Matos (P3. Mirándote - Iliana Matos plays Cordoba C12)\n",
      "stream:\n",
      "    - format:        flv720\n",
      "      container:     flv\n",
      "      quality:       高清 720P\n",
      "      size:          27.6 MiB (28890754 bytes)\n",
      "    # download-with: you-get --format=flv720 [URL]\n",
      "\n",
      "Downloading 【耳朵已怀孕】古典吉他 音乐合辑丨Iliana Matos (P3. Mirándote - Iliana Matos plays Cordoba C12).flv ...\n",
      " 100% ( 27.6/ 27.6MB) ├████████████████████████████████████████┤[1/1]   17 MB/s\n",
      "\n",
      "Downloading 【耳朵已怀孕】古典吉他 音乐合辑丨Iliana Matos (P3. Mirándote - Iliana Matos plays Cordoba C12).cmt.xml ...\n",
      "\n"
     ]
    }
   ],
   "source": [
    "## 设置下载目录\n",
    "path = 'D:\\Download\\music1'  # 替换为本地目录\n",
    "if os.path.exists(path) == 0:\n",
    "    os.makedirs(path) \n",
    "    \n",
    "## 设置要下载的视频地址\n",
    "url = 'https://www.bilibili.com/video/BV1EW411V7PD' # 替换为下载视频链接  \n",
    "\n",
    "## cmd命令\n",
    "sys.argv = ['you-get', '-l', '-o', path, url]\n",
    "you_get.main()"
   ]
  },
  {
   "cell_type": "markdown",
   "metadata": {},
   "source": [
    "# flv转mp3\n"
   ]
  },
  {
   "cell_type": "code",
   "execution_count": 3,
   "metadata": {},
   "outputs": [
    {
     "name": "stdout",
     "output_type": "stream",
     "text": [
      "MoviePy - Writing audio in D:\\Download\\music1\\【耳朵已怀孕】古典吉他 音乐合辑丨Iliana Matos (P1. Passacaglia for Eli Kassner - Iliana Matos pl.mp3\n"
     ]
    },
    {
     "name": "stderr",
     "output_type": "stream",
     "text": [
      "                                                                                                                       \r"
     ]
    },
    {
     "name": "stdout",
     "output_type": "stream",
     "text": [
      "MoviePy - Done.\n",
      "MoviePy - Writing audio in D:\\Download\\music1\\【耳朵已怀孕】古典吉他 音乐合辑丨Iliana Matos (P2. Elegía a Benny Moré - Iliana Matos plays Seba.mp3\n"
     ]
    },
    {
     "name": "stderr",
     "output_type": "stream",
     "text": [
      "                                                                                                                       \r"
     ]
    },
    {
     "name": "stdout",
     "output_type": "stream",
     "text": [
      "MoviePy - Done.\n",
      "MoviePy - Writing audio in D:\\Download\\music1\\【耳朵已怀孕】古典吉他 音乐合辑丨Iliana Matos (P3. Mirándote - Iliana Matos plays Cordoba C12).mp3\n"
     ]
    },
    {
     "name": "stderr",
     "output_type": "stream",
     "text": [
      "                                                                                                                       \r"
     ]
    },
    {
     "name": "stdout",
     "output_type": "stream",
     "text": [
      "MoviePy - Done.\n"
     ]
    },
    {
     "data": {
      "text/plain": [
       "0"
      ]
     },
     "execution_count": 3,
     "metadata": {},
     "output_type": "execute_result"
    }
   ],
   "source": [
    "## flv转mp3函数\n",
    "def cvrt_flv2mp3(file_dir): \n",
    "    for root, dirs, files in os.walk(file_dir):\n",
    "        for file in files:\n",
    "            if os.path.splitext(file)[1] == '.flv':  # 遍历文件夹下的flv文件\n",
    "                if os.path.exists(os.path.join(root, file).replace('.flv','.mp3')) == 0:  # 未转为mp3的文件\n",
    "                    clip = mp.AudioFileClip(os.path.join(root, file))  # 读取flv文件\n",
    "                    clip.write_audiofile(os.path.join(root, file).replace('.flv','.mp3'))  # \n",
    "    return 0\n",
    "\n",
    "cvrt_flv2mp3(path)"
   ]
  }
 ],
 "metadata": {
  "kernelspec": {
   "display_name": "Python 3",
   "language": "python",
   "name": "python3"
  },
  "language_info": {
   "codemirror_mode": {
    "name": "ipython",
    "version": 3
   },
   "file_extension": ".py",
   "mimetype": "text/x-python",
   "name": "python",
   "nbconvert_exporter": "python",
   "pygments_lexer": "ipython3",
   "version": "3.7.3"
  },
  "toc": {
   "base_numbering": 1,
   "nav_menu": {},
   "number_sections": true,
   "sideBar": true,
   "skip_h1_title": false,
   "title_cell": "Table of Contents",
   "title_sidebar": "Contents",
   "toc_cell": false,
   "toc_position": {},
   "toc_section_display": true,
   "toc_window_display": false
  }
 },
 "nbformat": 4,
 "nbformat_minor": 2
}
